{
 "cells": [
  {
   "cell_type": "markdown",
   "id": "5eabcc4b",
   "metadata": {},
   "source": [
    "# \"\"\"Q1. Write a Python program to print the following string in a specific format (see the\n",
    "output).\n",
    "\n",
    "Twinkle, twinkle, little star,\n",
    "    How I wonder what you are!\n",
    "        Up above the world so high,\n",
    "        Like a diamond in the sky.\n",
    "Twinkle, twinkle, little star,\n",
    "    How I wonder what you are\n",
    "\"\"\""
   ]
  },
  {
   "cell_type": "code",
   "execution_count": 8,
   "id": "5672d1a0",
   "metadata": {},
   "outputs": [
    {
     "name": "stdout",
     "output_type": "stream",
     "text": [
      "\tTwinkle, twinkle, little star,\n",
      "\t\tHow I wonder what you are!\n",
      "\n",
      "\t\t\tUp above the world so high,\n",
      "\t\t\tLike a diamond in the sky.\n",
      "\n",
      "\tTwinkle, twinkle, little star,\n",
      "\t\tHow I wonder what you are \n"
     ]
    }
   ],
   "source": [
    "print(\"\\tTwinkle, twinkle, little star,\\n\\t\\tHow I wonder what you are!\\n\\n\\t\\t\\tUp above the world so high,\");\n",
    "print(\"\\t\\t\\tLike a diamond in the sky.\\n\\n\\tTwinkle, twinkle, little star,\\n\\t\\tHow I wonder what you are \");"
   ]
  },
  {
   "cell_type": "markdown",
   "id": "73d050d2",
   "metadata": {},
   "source": [
    "# \"\"\"Q2. Write a Python program to get the Python version you are using\"\"\""
   ]
  },
  {
   "cell_type": "code",
   "execution_count": 9,
   "id": "5393b08f",
   "metadata": {},
   "outputs": [
    {
     "name": "stdout",
     "output_type": "stream",
     "text": [
      "Python Version: \n",
      "3.8.8 (default, Apr 13 2021, 15:08:03) [MSC v.1916 64 bit (AMD64)]\n",
      "\n",
      "Version Info: \n",
      "sys.version_info(major=3, minor=8, micro=8, releaselevel='final', serial=0)\n"
     ]
    }
   ],
   "source": [
    "import sys;\n",
    "print(\"Python Version: \");\n",
    "print(sys.version);\n",
    "print(\"\\nVersion Info: \");\n",
    "print(sys.version_info);"
   ]
  },
  {
   "cell_type": "markdown",
   "id": "4a8de39f",
   "metadata": {},
   "source": [
    "# \"\"\"Q3. Write a Python program to display the current date and time.\"\"\""
   ]
  },
  {
   "cell_type": "code",
   "execution_count": 10,
   "id": "3d8e58d1",
   "metadata": {},
   "outputs": [
    {
     "name": "stdout",
     "output_type": "stream",
     "text": [
      "Current Date and Time: \n",
      "\n",
      "13:23:10 PM, Friday, December 31th, 2021\n"
     ]
    }
   ],
   "source": [
    "import datetime;\n",
    "now = datetime.datetime.now();\n",
    "print(\"Current Date and Time: \\n\");\n",
    "print(now.strftime('%H:%M:%S %p, %A, %B %dth, %Y'))"
   ]
  },
  {
   "cell_type": "markdown",
   "id": "454b557c",
   "metadata": {},
   "source": [
    "# \"\"\"Q4. Write a Python program which accepts the radius of a circle from the user and compute the area.\"\"\""
   ]
  },
  {
   "cell_type": "code",
   "execution_count": 11,
   "id": "e1e58040",
   "metadata": {},
   "outputs": [
    {
     "name": "stdout",
     "output_type": "stream",
     "text": [
      "Enter the Radius of the Circle: 6\n",
      "\n",
      "The area of the Circle with radius 6.0 is: 113.09733552923255\n"
     ]
    }
   ],
   "source": [
    "import math;\n",
    "radius = float(input(\"Enter the Radius of the Circle: \"));\n",
    "area = math.pi*radius**2;\n",
    "print(\"\\nThe area of the Circle with radius \"+str(radius)+\" is: \"+str(area));"
   ]
  },
  {
   "cell_type": "markdown",
   "id": "7aa2d9ac",
   "metadata": {},
   "source": [
    "# \"\"\"Q5. Write a Python program which accepts the user's first and last name and print them in reverse order with a space between them.\"\"\""
   ]
  },
  {
   "cell_type": "code",
   "execution_count": 12,
   "id": "32c87acf",
   "metadata": {},
   "outputs": [
    {
     "name": "stdout",
     "output_type": "stream",
     "text": [
      "Enter your first name: Shah\n",
      "Enter your last name: Fahad\n",
      "\n",
      "Swaping Name: Fahad Shah\n",
      "\n",
      "Reverse Order: dahaF  hahS\n"
     ]
    }
   ],
   "source": [
    "firstname = input(\"Enter your first name: \");\n",
    "lastname = input(\"Enter your last name: \");\n",
    "print(\"\\nSwaping Name: \" +lastname + \" \" + firstname);\n",
    "fn = firstname[::-1];\n",
    "ln = lastname[::-1];\n",
    "print(\"\\nReverse Order: \" + ln,\"\",fn);"
   ]
  },
  {
   "cell_type": "markdown",
   "id": "01dd37cb",
   "metadata": {},
   "source": [
    "# \"\"\"Q6. Write a python program which takes two inputs from user and print them addition\"\"\""
   ]
  },
  {
   "cell_type": "code",
   "execution_count": 13,
   "id": "3cbb83ea",
   "metadata": {},
   "outputs": [
    {
     "name": "stdout",
     "output_type": "stream",
     "text": [
      "Enter First Number: 3\n",
      "Enter Second Number: 9\n",
      "Sum:  12\n"
     ]
    }
   ],
   "source": [
    "num1 = int(input(\"Enter First Number: \"));\n",
    "num2 = int(input(\"Enter Second Number: \"));\n",
    "sum = num1 + num2;\n",
    "print(\"Sum: \",sum);"
   ]
  },
  {
   "cell_type": "code",
   "execution_count": null,
   "id": "b165efe0",
   "metadata": {},
   "outputs": [],
   "source": []
  }
 ],
 "metadata": {
  "kernelspec": {
   "display_name": "Python 3",
   "language": "python",
   "name": "python3"
  },
  "language_info": {
   "codemirror_mode": {
    "name": "ipython",
    "version": 3
   },
   "file_extension": ".py",
   "mimetype": "text/x-python",
   "name": "python",
   "nbconvert_exporter": "python",
   "pygments_lexer": "ipython3",
   "version": "3.8.8"
  }
 },
 "nbformat": 4,
 "nbformat_minor": 5
}
